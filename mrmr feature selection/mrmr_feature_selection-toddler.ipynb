{
 "cells": [
  {
   "cell_type": "code",
   "execution_count": 1,
   "metadata": {
    "colab": {
     "base_uri": "https://localhost:8080/"
    },
    "id": "2VmrXcWg_P8B",
    "outputId": "4edb5886-80c6-4e0d-ea83-2e752bb64421"
   },
   "outputs": [
    {
     "name": "stdout",
     "output_type": "stream",
     "text": [
      "Collecting pymrmr\n",
      "  Downloading pymrmr-0.1.11.tar.gz (69 kB)\n",
      "     ---------------------------------------- 0.0/69.5 kB ? eta -:--:--\n",
      "     ---------------------- --------------- 41.0/69.5 kB 991.0 kB/s eta 0:00:01\n",
      "     -------------------------------------- 69.5/69.5 kB 760.2 kB/s eta 0:00:00\n",
      "  Preparing metadata (setup.py): started\n",
      "  Preparing metadata (setup.py): finished with status 'error'\n"
     ]
    },
    {
     "name": "stderr",
     "output_type": "stream",
     "text": [
      "  error: subprocess-exited-with-error\n",
      "  \n",
      "  python setup.py egg_info did not run successfully.\n",
      "  exit code: 1\n",
      "  \n",
      "  [6 lines of output]\n",
      "  Traceback (most recent call last):\n",
      "    File \"<string>\", line 2, in <module>\n",
      "    File \"<pip-setuptools-caller>\", line 34, in <module>\n",
      "    File \"C:\\Users\\Disha\\AppData\\Local\\Temp\\pip-install-uj9l3p2p\\pymrmr_f9fc8f28e74143daaafaa0e8a829a93e\\setup.py\", line 5, in <module>\n",
      "      from Cython.Distutils import build_ext\n",
      "  ModuleNotFoundError: No module named 'Cython'\n",
      "  [end of output]\n",
      "  \n",
      "  note: This error originates from a subprocess, and is likely not a problem with pip.\n",
      "error: metadata-generation-failed\n",
      "\n",
      "Encountered error while generating package metadata.\n",
      "\n",
      "See above for output.\n",
      "\n",
      "note: This is an issue with the package mentioned above, not pip.\n",
      "hint: See above for details.\n"
     ]
    }
   ],
   "source": [
    "!pip install pymrmr\n"
   ]
  },
  {
   "cell_type": "code",
   "execution_count": 3,
   "metadata": {
    "id": "XAWLivrdAGAn"
   },
   "outputs": [],
   "source": [
    "import pandas as pd\n",
    "from sklearn.ensemble import RandomForestClassifier\n",
    "from sklearn.tree import DecisionTreeClassifier\n",
    "from sklearn.naive_bayes import GaussianNB\n",
    "from sklearn.neighbors import KNeighborsClassifier\n",
    "from sklearn.linear_model import LogisticRegression\n",
    "from sklearn.svm import SVC\n",
    "from sklearn.metrics import accuracy_score\n",
    "from pymrmr import mRMR"
   ]
  },
  {
   "cell_type": "code",
   "execution_count": 5,
   "metadata": {
    "colab": {
     "base_uri": "https://localhost:8080/"
    },
    "id": "AYjWENpRAxZL",
    "outputId": "e05626f4-f85a-44f1-fad4-fc70b4742de0"
   },
   "outputs": [
    {
     "data": {
      "text/plain": [
       "Index(['A1', 'A2', 'A3', 'A4', 'A5', 'A6', 'A7', 'A8', 'A9', 'A10', 'Age_Mons',\n",
       "       'Sex', 'Ethnicity', 'Jaundice', 'Family_mem_with_ASD',\n",
       "       'Class/ASD Traits '],\n",
       "      dtype='object')"
      ]
     },
     "execution_count": 5,
     "metadata": {},
     "output_type": "execute_result"
    }
   ],
   "source": [
    "df = pd.read_csv('autism_encoded.csv')\n",
    "df.columns\n"
   ]
  },
  {
   "cell_type": "code",
   "execution_count": 6,
   "metadata": {
    "id": "UULyvrFsA69v"
   },
   "outputs": [],
   "source": [
    "# Split the data into features and target\n",
    "X = df.drop('Class/ASD Traits ',axis=1)\n",
    "y=df['Class/ASD Traits ']"
   ]
  },
  {
   "cell_type": "code",
   "execution_count": 7,
   "metadata": {
    "id": "-Agd-bRNBF_d"
   },
   "outputs": [],
   "source": [
    "# Define the range of number of features to select\n",
    "K_range = range(1, len(X.columns) + 1)"
   ]
  },
  {
   "cell_type": "code",
   "execution_count": 8,
   "metadata": {
    "id": "bcxOhHPjBU4a"
   },
   "outputs": [],
   "source": [
    "# Initialize a dictionary to store the accuracy scores for different k values\n",
    "acc_scores = {}"
   ]
  },
  {
   "cell_type": "code",
   "execution_count": 12,
   "metadata": {
    "colab": {
     "base_uri": "https://localhost:8080/"
    },
    "id": "D0O0QamYBW2C",
    "outputId": "7e569f29-8450-493b-a714-a034b699aea5"
   },
   "outputs": [
    {
     "name": "stdout",
     "output_type": "stream",
     "text": [
      "Random Forest, k = 1: Accuracy: 69.35%\n",
      "Random Forest, k = 2: Accuracy: 84.63%\n",
      "Random Forest, k = 3: Accuracy: 84.63%\n",
      "Random Forest, k = 4: Accuracy: 85.96%\n",
      "Random Forest, k = 5: Accuracy: 88.52%\n",
      "Random Forest, k = 6: Accuracy: 89.56%\n",
      "Random Forest, k = 7: Accuracy: 93.45%\n",
      "Random Forest, k = 8: Accuracy: 94.12%\n",
      "Random Forest, k = 9: Accuracy: 94.31%\n",
      "Random Forest, k = 10: Accuracy: 96.68%\n",
      "Random Forest, k = 11: Accuracy: 98.01%\n",
      "Random Forest, k = 12: Accuracy: 99.62%\n",
      "Random Forest, k = 13: Accuracy: 99.91%\n",
      "Random Forest, k = 14: Accuracy: 100.00%\n",
      "Random Forest, k = 15: Accuracy: 100.00%\n"
     ]
    }
   ],
   "source": [
    "for k in K_range:\n",
    "    # Select the top K features using mRMR\n",
    "    top_k_indices = mRMR(X, 'MID', k)\n",
    "    X_mrmr = X.loc[:, top_k_indices]\n",
    "\n",
    "    # Train a Random Forest classifier on the selected features\n",
    "    clf = RandomForestClassifier()\n",
    "    clf.fit(X_mrmr, y)\n",
    "    # Predict on the training data\n",
    "    y_pred = clf.predict(X_mrmr)\n",
    "    # Compute the accuracy\n",
    "    acc = accuracy_score(y, y_pred)\n",
    "    \n",
    "    acc_scores[\"Random Forest, k = {}\".format(k)] = acc\n",
    "    print(\"Random Forest, k = {}: Accuracy: {:.2f}%\".format(k, acc * 100))\n",
    "\n"
   ]
  },
  {
   "cell_type": "code",
   "execution_count": 13,
   "metadata": {
    "colab": {
     "base_uri": "https://localhost:8080/"
    },
    "id": "wC6uCR2TDdQH",
    "outputId": "84ed0671-0abd-481a-99a6-79f92716f643"
   },
   "outputs": [
    {
     "name": "stdout",
     "output_type": "stream",
     "text": [
      "Decision Tree, k = 1: Accuracy: 69.35%\n",
      "Decision Tree, k = 2: Accuracy: 84.63%\n",
      "Decision Tree, k = 3: Accuracy: 84.63%\n",
      "Decision Tree, k = 4: Accuracy: 85.96%\n",
      "Decision Tree, k = 5: Accuracy: 88.52%\n",
      "Decision Tree, k = 6: Accuracy: 89.56%\n",
      "Decision Tree, k = 7: Accuracy: 93.45%\n",
      "Decision Tree, k = 8: Accuracy: 94.12%\n",
      "Decision Tree, k = 9: Accuracy: 94.31%\n",
      "Decision Tree, k = 10: Accuracy: 96.68%\n",
      "Decision Tree, k = 11: Accuracy: 98.01%\n",
      "Decision Tree, k = 12: Accuracy: 99.62%\n",
      "Decision Tree, k = 13: Accuracy: 99.91%\n",
      "Decision Tree, k = 14: Accuracy: 100.00%\n",
      "Decision Tree, k = 15: Accuracy: 100.00%\n"
     ]
    }
   ],
   "source": [
    "# Decision Tree\n",
    "from sklearn.tree import DecisionTreeClassifier\n",
    "for k in K_range:\n",
    "    # Select the top K features using mRMR\n",
    "    top_k_indices = mRMR(X, 'MID', k)\n",
    "    X_mrmr = X.loc[:, top_k_indices]\n",
    "\n",
    "   \n",
    "    dec = DecisionTreeClassifier()\n",
    "    dec.fit(X_mrmr, y)\n",
    "    # Predict on the training data\n",
    "    y_pred = dec.predict(X_mrmr)\n",
    "    # Compute the accuracy\n",
    "    acc = accuracy_score(y, y_pred)\n",
    "    acc_scores[\"Decision Tree, k = {}\".format(k)] = acc\n",
    "    print(\"Decision Tree, k = {}: Accuracy: {:.2f}%\".format(k, acc * 100))"
   ]
  },
  {
   "cell_type": "code",
   "execution_count": 15,
   "metadata": {
    "colab": {
     "base_uri": "https://localhost:8080/"
    },
    "id": "PeXa8CkkD-9d",
    "outputId": "b909025a-bfc9-46b7-95dd-e2a1098e5fe9"
   },
   "outputs": [
    {
     "name": "stdout",
     "output_type": "stream",
     "text": [
      "KNN, k = 1: Accuracy: 69.35%\n",
      "KNN, k = 2: Accuracy: 84.63%\n",
      "KNN, k = 3: Accuracy: 84.63%\n",
      "KNN, k = 4: Accuracy: 85.77%\n",
      "KNN, k = 5: Accuracy: 87.76%\n",
      "KNN, k = 6: Accuracy: 88.33%\n",
      "KNN, k = 7: Accuracy: 92.22%\n",
      "KNN, k = 8: Accuracy: 93.17%\n",
      "KNN, k = 9: Accuracy: 92.79%\n",
      "KNN, k = 10: Accuracy: 94.97%\n",
      "KNN, k = 11: Accuracy: 95.83%\n",
      "KNN, k = 12: Accuracy: 95.45%\n",
      "KNN, k = 13: Accuracy: 95.54%\n",
      "KNN, k = 14: Accuracy: 94.78%\n",
      "KNN, k = 15: Accuracy: 95.07%\n"
     ]
    }
   ],
   "source": [
    "# KNN Classification\n",
    "from sklearn.neighbors import KNeighborsClassifier\n",
    "for k in K_range:\n",
    "    # Select the top K features using mRMR\n",
    "    top_k_indices = mRMR(X, 'MID', k)\n",
    "    X_mrmr = X.loc[:, top_k_indices]\n",
    "\n",
    "    knn = KNeighborsClassifier()\n",
    "    knn.fit(X_mrmr, y)\n",
    "    # Predict on the training data\n",
    "    y_pred = knn.predict(X_mrmr)\n",
    "    # Compute the accuracy\n",
    "    acc = accuracy_score(y, y_pred)\n",
    "    acc_scores[\"KNN, k = {}\".format(k)] = acc\n",
    "    print(\"KNN, k = {}: Accuracy: {:.2f}%\".format(k, acc * 100))\n",
    "\n"
   ]
  },
  {
   "cell_type": "code",
   "execution_count": 16,
   "metadata": {
    "colab": {
     "base_uri": "https://localhost:8080/"
    },
    "id": "XG_jgR-NEi-l",
    "outputId": "31c1a84c-72a3-45ee-985f-1262839ba77c"
   },
   "outputs": [
    {
     "name": "stdout",
     "output_type": "stream",
     "text": [
      "Naive Bayes, k = 1: Accuracy: 69.35%\n",
      "Naive Bayes, k = 2: Accuracy: 84.63%\n",
      "Naive Bayes, k = 3: Accuracy: 84.63%\n",
      "Naive Bayes, k = 4: Accuracy: 84.82%\n",
      "Naive Bayes, k = 5: Accuracy: 88.33%\n",
      "Naive Bayes, k = 6: Accuracy: 88.33%\n",
      "Naive Bayes, k = 7: Accuracy: 91.56%\n",
      "Naive Bayes, k = 8: Accuracy: 91.56%\n",
      "Naive Bayes, k = 9: Accuracy: 91.56%\n",
      "Naive Bayes, k = 10: Accuracy: 92.69%\n",
      "Naive Bayes, k = 11: Accuracy: 93.26%\n",
      "Naive Bayes, k = 12: Accuracy: 93.07%\n",
      "Naive Bayes, k = 13: Accuracy: 94.88%\n",
      "Naive Bayes, k = 14: Accuracy: 94.59%\n",
      "Naive Bayes, k = 15: Accuracy: 95.26%\n"
     ]
    }
   ],
   "source": [
    "# Naive Bayes classification\n",
    "from sklearn.naive_bayes import GaussianNB\n",
    "for k in K_range:\n",
    "    # Select the top K features using mRMR\n",
    "    top_k_indices = mRMR(X, 'MID', k)\n",
    "    X_mrmr = X.loc[:, top_k_indices]\n",
    "\n",
    "    naive = GaussianNB()\n",
    "    naive.fit(X_mrmr, y)\n",
    "    # Predict on the training data\n",
    "    y_pred = naive.predict(X_mrmr)\n",
    "    # Compute the accuracy\n",
    "    acc = accuracy_score(y, y_pred)\n",
    "    acc_scores[\"Naive Bayes, k = {}\".format(k)] = acc\n",
    "    print(\"Naive Bayes, k = {}: Accuracy: {:.2f}%\".format(k, acc * 100))"
   ]
  },
  {
   "cell_type": "code",
   "execution_count": 19,
   "metadata": {
    "colab": {
     "base_uri": "https://localhost:8080/"
    },
    "id": "xzMH1-loFBsI",
    "outputId": "b7a37c75-ce25-41b9-d9a4-9b6feef80aab"
   },
   "outputs": [
    {
     "name": "stdout",
     "output_type": "stream",
     "text": [
      "Logistic Regression, k = 1: Accuracy: 69.07%\n",
      "Logistic Regression, k = 2: Accuracy: 84.63%\n",
      "Logistic Regression, k = 3: Accuracy: 84.63%\n",
      "Logistic Regression, k = 4: Accuracy: 85.77%\n",
      "Logistic Regression, k = 5: Accuracy: 88.33%\n",
      "Logistic Regression, k = 6: Accuracy: 88.33%\n",
      "Logistic Regression, k = 7: Accuracy: 92.41%\n",
      "Logistic Regression, k = 8: Accuracy: 92.41%\n",
      "Logistic Regression, k = 9: Accuracy: 92.69%\n",
      "Logistic Regression, k = 10: Accuracy: 95.26%\n",
      "Logistic Regression, k = 11: Accuracy: 96.30%\n",
      "Logistic Regression, k = 12: Accuracy: 96.39%\n",
      "Logistic Regression, k = 13: Accuracy: 97.44%\n",
      "Logistic Regression, k = 14: Accuracy: 97.25%\n",
      "Logistic Regression, k = 15: Accuracy: 100.00%\n"
     ]
    }
   ],
   "source": [
    "# Logistic Regression\n",
    "from sklearn.linear_model import LogisticRegression\n",
    "for k in K_range:\n",
    "    # Select the top K features using mRMR\n",
    "    top_k_indices = mRMR(X, 'MID', k)\n",
    "    X_mrmr = X.loc[:, top_k_indices]\n",
    "\n",
    "    log = LogisticRegression(max_iter=1000)\n",
    "    log.fit(X_mrmr, y)\n",
    "    # Predict on the training data\n",
    "    y_pred = log.predict(X_mrmr)\n",
    "    # Compute the accuracy\n",
    "    acc = accuracy_score(y, y_pred)\n",
    "    acc_scores[\"Logistic Regression, k = {}\".format(k)] = acc\n",
    "    print(\"Logistic Regression, k = {}: Accuracy: {:.2f}%\".format(k, acc * 100))"
   ]
  },
  {
   "cell_type": "code",
   "execution_count": 21,
   "metadata": {
    "colab": {
     "base_uri": "https://localhost:8080/"
    },
    "id": "HpovA2j4FXlp",
    "outputId": "2eb9b882-2565-4527-961a-32105ddf02b2"
   },
   "outputs": [
    {
     "name": "stdout",
     "output_type": "stream",
     "text": [
      "Accuracy for k=1 and kernel=linear: 0.69\n",
      "Accuracy for k=1 and kernel=poly: 0.69\n",
      "Accuracy for k=1 and kernel=rbf: 0.69\n",
      "Accuracy for k=2 and kernel=linear: 0.85\n",
      "Accuracy for k=2 and kernel=poly: 0.85\n",
      "Accuracy for k=2 and kernel=rbf: 0.85\n",
      "Accuracy for k=3 and kernel=linear: 0.85\n",
      "Accuracy for k=3 and kernel=poly: 0.85\n",
      "Accuracy for k=3 and kernel=rbf: 0.85\n",
      "Accuracy for k=4 and kernel=linear: 0.85\n",
      "Accuracy for k=4 and kernel=poly: 0.86\n",
      "Accuracy for k=4 and kernel=rbf: 0.86\n",
      "Accuracy for k=5 and kernel=linear: 0.88\n",
      "Accuracy for k=5 and kernel=poly: 0.89\n",
      "Accuracy for k=5 and kernel=rbf: 0.89\n",
      "Accuracy for k=6 and kernel=linear: 0.88\n",
      "Accuracy for k=6 and kernel=poly: 0.89\n",
      "Accuracy for k=6 and kernel=rbf: 0.89\n",
      "Accuracy for k=7 and kernel=linear: 0.92\n",
      "Accuracy for k=7 and kernel=poly: 0.93\n",
      "Accuracy for k=7 and kernel=rbf: 0.93\n",
      "Accuracy for k=8 and kernel=linear: 0.92\n",
      "Accuracy for k=8 and kernel=poly: 0.94\n",
      "Accuracy for k=8 and kernel=rbf: 0.94\n",
      "Accuracy for k=9 and kernel=linear: 0.92\n",
      "Accuracy for k=9 and kernel=poly: 0.94\n",
      "Accuracy for k=9 and kernel=rbf: 0.94\n",
      "Accuracy for k=10 and kernel=linear: 0.95\n",
      "Accuracy for k=10 and kernel=poly: 0.96\n",
      "Accuracy for k=10 and kernel=rbf: 0.96\n",
      "Accuracy for k=11 and kernel=linear: 0.96\n",
      "Accuracy for k=11 and kernel=poly: 0.98\n",
      "Accuracy for k=11 and kernel=rbf: 0.97\n",
      "Accuracy for k=12 and kernel=linear: 0.96\n",
      "Accuracy for k=12 and kernel=poly: 0.83\n",
      "Accuracy for k=12 and kernel=rbf: 0.85\n",
      "Accuracy for k=13 and kernel=linear: 0.97\n",
      "Accuracy for k=13 and kernel=poly: 0.85\n",
      "Accuracy for k=13 and kernel=rbf: 0.87\n",
      "Accuracy for k=14 and kernel=linear: 0.97\n",
      "Accuracy for k=14 and kernel=poly: 0.86\n",
      "Accuracy for k=14 and kernel=rbf: 0.87\n",
      "Accuracy for k=15 and kernel=linear: 1.00\n",
      "Accuracy for k=15 and kernel=poly: 0.87\n",
      "Accuracy for k=15 and kernel=rbf: 0.90\n"
     ]
    }
   ],
   "source": [
    "# SVM with different kernels\n",
    "from sklearn.svm import SVC\n",
    "from sklearn.naive_bayes import GaussianNB\n",
    "for k in K_range:\n",
    "    # Select the top K features using mRMR\n",
    "    top_k_indices = mRMR(X, 'MID', k)\n",
    "    X_mrmr = X.loc[:, top_k_indices]\n",
    "    for kernel in ['linear', 'poly', 'rbf']:\n",
    "      # Define the SVM classifier with different kernels\n",
    "      svm = SVC(kernel=kernel)\n",
    "      svm.fit(X_mrmr, y)\n",
    "      # Predict on the training data\n",
    "      y_pred = svm.predict(X_mrmr)\n",
    "      # Compute the accuracy\n",
    "      acc = accuracy_score(y, y_pred)\n",
    "      print(f\"Accuracy for k={k} and kernel={kernel}: {acc:.2f}\")\n",
    "      \n"
   ]
  },
  {
   "cell_type": "code",
   "execution_count": null,
   "metadata": {
    "id": "jXRRy-_oG246"
   },
   "outputs": [],
   "source": []
  }
 ],
 "metadata": {
  "colab": {
   "provenance": []
  },
  "kernelspec": {
   "display_name": "Python 3 (ipykernel)",
   "language": "python",
   "name": "python3"
  },
  "language_info": {
   "codemirror_mode": {
    "name": "ipython",
    "version": 3
   },
   "file_extension": ".py",
   "mimetype": "text/x-python",
   "name": "python",
   "nbconvert_exporter": "python",
   "pygments_lexer": "ipython3",
   "version": "3.11.5"
  }
 },
 "nbformat": 4,
 "nbformat_minor": 1
}
