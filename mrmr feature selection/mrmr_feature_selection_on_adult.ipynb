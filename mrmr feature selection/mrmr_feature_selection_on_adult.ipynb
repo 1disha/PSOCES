{
 "cells": [
  {
   "cell_type": "code",
   "execution_count": 1,
   "metadata": {
    "colab": {
     "base_uri": "https://localhost:8080/"
    },
    "id": "jiU1CftPKOdF",
    "outputId": "2572357b-c156-44d0-9d9f-bb64d186ed6f"
   },
   "outputs": [
    {
     "name": "stdout",
     "output_type": "stream",
     "text": [
      "Looking in indexes: https://pypi.org/simple, https://us-python.pkg.dev/colab-wheels/public/simple/\n",
      "Collecting pymrmr\n",
      "  Downloading pymrmr-0.1.11.tar.gz (69 kB)\n",
      "\u001b[2K     \u001b[90m━━━━━━━━━━━━━━━━━━━━━━━━━━━━━━━━━━━━━━━━\u001b[0m \u001b[32m69.5/69.5 KB\u001b[0m \u001b[31m3.0 MB/s\u001b[0m eta \u001b[36m0:00:00\u001b[0m\n",
      "\u001b[?25h  Preparing metadata (setup.py) ... \u001b[?25l\u001b[?25hdone\n",
      "Requirement already satisfied: numpy>=1.19.5 in /usr/local/lib/python3.8/dist-packages (from pymrmr) (1.21.6)\n",
      "Building wheels for collected packages: pymrmr\n",
      "  Building wheel for pymrmr (setup.py) ... \u001b[?25l\u001b[?25hdone\n",
      "  Created wheel for pymrmr: filename=pymrmr-0.1.11-cp38-cp38-linux_x86_64.whl size=353787 sha256=eb04511281413725691e75f51e1887132f7f147ea8369133b5b36f5ba3fabdf6\n",
      "  Stored in directory: /root/.cache/pip/wheels/a7/f0/23/3cb98b0a2ac66bc6bf8930b1ed06d1d5bdc541e175d9f581b7\n",
      "Successfully built pymrmr\n",
      "Installing collected packages: pymrmr\n",
      "Successfully installed pymrmr-0.1.11\n"
     ]
    }
   ],
   "source": [
    "!pip install pymrmr"
   ]
  },
  {
   "cell_type": "code",
   "execution_count": 12,
   "metadata": {
    "id": "awsfOlpcKtrB"
   },
   "outputs": [],
   "source": [
    "import pandas as pd\n",
    "from sklearn.ensemble import RandomForestClassifier\n",
    "from sklearn.tree import DecisionTreeClassifier\n",
    "from sklearn.naive_bayes import GaussianNB\n",
    "from sklearn.neighbors import KNeighborsClassifier\n",
    "from sklearn.linear_model import LogisticRegression\n",
    "from sklearn.svm import SVC\n",
    "from sklearn.metrics import accuracy_score\n",
    "from pymrmr import mRMR"
   ]
  },
  {
   "cell_type": "code",
   "execution_count": 23,
   "metadata": {
    "colab": {
     "base_uri": "https://localhost:8080/"
    },
    "id": "GqwP3XQRKx5t",
    "outputId": "cd17e688-eab4-4184-ef75-3b4b4690f224"
   },
   "outputs": [
    {
     "data": {
      "text/plain": [
       "Index(['id', 'A1_Score', 'A2_Score', 'A3_Score', 'A4_Score', 'A5_Score',\n",
       "       'A6_Score', 'A7_Score', 'A8_Score', 'A9_Score', 'A10_Score', 'age',\n",
       "       'gender', 'ethnicity', 'jundice', 'austim', 'contry_of_res',\n",
       "       'used_app_before', 'result', 'age_desc', 'relation', 'Class/ASD'],\n",
       "      dtype='object')"
      ]
     },
     "execution_count": 23,
     "metadata": {},
     "output_type": "execute_result"
    }
   ],
   "source": [
    "df = pd.read_csv('Autism-Adult.csv')\n",
    "df.columns"
   ]
  },
  {
   "cell_type": "code",
   "execution_count": 24,
   "metadata": {
    "id": "zq0wD78_K4IG"
   },
   "outputs": [],
   "source": [
    "# Split the data into features and target\n",
    "X = df.drop(['id','Class/ASD','austim','used_app_before','age_desc','relation','result','ethnicity'],axis=1)\n",
    "y=df['Class/ASD']"
   ]
  },
  {
   "cell_type": "code",
   "execution_count": 25,
   "metadata": {
    "colab": {
     "base_uri": "https://localhost:8080/"
    },
    "id": "H8v9-kVoLO7r",
    "outputId": "68d10b63-5cc6-4e18-d2f2-ead134e9e38d"
   },
   "outputs": [
    {
     "data": {
      "text/plain": [
       "Index(['A1_Score', 'A2_Score', 'A3_Score', 'A4_Score', 'A5_Score', 'A6_Score',\n",
       "       'A7_Score', 'A8_Score', 'A9_Score', 'A10_Score', 'age', 'gender',\n",
       "       'jundice', 'contry_of_res'],\n",
       "      dtype='object')"
      ]
     },
     "execution_count": 25,
     "metadata": {},
     "output_type": "execute_result"
    }
   ],
   "source": [
    "# Categorical encoding\n",
    "from sklearn.preprocessing import LabelEncoder\n",
    "le=LabelEncoder()\n",
    "X.columns"
   ]
  },
  {
   "cell_type": "code",
   "execution_count": 27,
   "metadata": {
    "id": "sk3qD7dKLc8S"
   },
   "outputs": [],
   "source": [
    "# Encoding Sex\n",
    "le.fit(X['gender'])\n",
    "X['gender']=le.transform(X['gender'])\n",
    "# Encoding Country of residence\n",
    "le.fit(X['contry_of_res'])\n",
    "X['contry_of_res']=le.transform(X['contry_of_res'])\n",
    "# Encoding Jaundice\n",
    "le.fit(X['jundice'])\n",
    "X['jundice']=le.transform(X['jundice'])\n",
    "# Encode Age as it is in object format\n",
    "le.fit(X['age'])\n",
    "X['age']=le.transform(X['age'])"
   ]
  },
  {
   "cell_type": "code",
   "execution_count": 28,
   "metadata": {
    "colab": {
     "base_uri": "https://localhost:8080/"
    },
    "id": "h6vTMfxjUkK4",
    "outputId": "89eb1a04-43bd-4009-b2b7-560b54c7d180"
   },
   "outputs": [
    {
     "name": "stdout",
     "output_type": "stream",
     "text": [
      "<class 'pandas.core.frame.DataFrame'>\n",
      "RangeIndex: 704 entries, 0 to 703\n",
      "Data columns (total 14 columns):\n",
      " #   Column         Non-Null Count  Dtype\n",
      "---  ------         --------------  -----\n",
      " 0   A1_Score       704 non-null    int64\n",
      " 1   A2_Score       704 non-null    int64\n",
      " 2   A3_Score       704 non-null    int64\n",
      " 3   A4_Score       704 non-null    int64\n",
      " 4   A5_Score       704 non-null    int64\n",
      " 5   A6_Score       704 non-null    int64\n",
      " 6   A7_Score       704 non-null    int64\n",
      " 7   A8_Score       704 non-null    int64\n",
      " 8   A9_Score       704 non-null    int64\n",
      " 9   A10_Score      704 non-null    int64\n",
      " 10  age            704 non-null    int64\n",
      " 11  gender         704 non-null    int64\n",
      " 12  jundice        704 non-null    int64\n",
      " 13  contry_of_res  704 non-null    int64\n",
      "dtypes: int64(14)\n",
      "memory usage: 77.1 KB\n"
     ]
    }
   ],
   "source": [
    "X.info()"
   ]
  },
  {
   "cell_type": "code",
   "execution_count": 29,
   "metadata": {
    "colab": {
     "base_uri": "https://localhost:8080/"
    },
    "id": "u6L4Lt2cL55L",
    "outputId": "eae311b2-5358-4c3d-e3ce-93b4d312ff93"
   },
   "outputs": [
    {
     "data": {
      "text/plain": [
       "range(1, 15)"
      ]
     },
     "execution_count": 29,
     "metadata": {},
     "output_type": "execute_result"
    }
   ],
   "source": [
    "# Define the range of number of features to select\n",
    "K_range = range(1, len(X.columns) + 1)\n",
    "K_range"
   ]
  },
  {
   "cell_type": "code",
   "execution_count": 30,
   "metadata": {
    "id": "ehvK8iQqUGzT"
   },
   "outputs": [],
   "source": [
    "# Initialize a dictionary to store the accuracy scores for different k values\n",
    "acc_scores = {}"
   ]
  },
  {
   "cell_type": "code",
   "execution_count": 31,
   "metadata": {
    "colab": {
     "base_uri": "https://localhost:8080/"
    },
    "id": "oJLqH0yZMASd",
    "outputId": "0843f5c6-6e0e-46e7-9a8c-c12b614a4417"
   },
   "outputs": [
    {
     "name": "stdout",
     "output_type": "stream",
     "text": [
      "Random Forest, k = 1: Accuracy: 76.70%\n",
      "Random Forest, k = 2: Accuracy: 81.68%\n",
      "Random Forest, k = 3: Accuracy: 83.66%\n",
      "Random Forest, k = 4: Accuracy: 85.09%\n",
      "Random Forest, k = 5: Accuracy: 85.94%\n",
      "Random Forest, k = 6: Accuracy: 91.48%\n",
      "Random Forest, k = 7: Accuracy: 94.18%\n",
      "Random Forest, k = 8: Accuracy: 96.45%\n",
      "Random Forest, k = 9: Accuracy: 98.58%\n",
      "Random Forest, k = 10: Accuracy: 99.72%\n",
      "Random Forest, k = 11: Accuracy: 99.86%\n",
      "Random Forest, k = 12: Accuracy: 100.00%\n",
      "Random Forest, k = 13: Accuracy: 100.00%\n",
      "Random Forest, k = 14: Accuracy: 100.00%\n"
     ]
    }
   ],
   "source": [
    "for k in K_range:\n",
    "    # Select the top K features using mRMR\n",
    "    top_k_indices = mRMR(X, 'MID', k)\n",
    "    X_mrmr = X.loc[:, top_k_indices]\n",
    "\n",
    "    # Train a Random Forest classifier on the selected features\n",
    "    clf = RandomForestClassifier()\n",
    "    clf.fit(X_mrmr, y)\n",
    "    # Predict on the training data\n",
    "    y_pred = clf.predict(X_mrmr)\n",
    "    # Compute the accuracy\n",
    "    acc = accuracy_score(y, y_pred)\n",
    "    acc_scores[\"Random Forest, k = {}\".format(k)] = acc\n",
    "    print(\"Random Forest, k = {}: Accuracy: {:.2f}%\".format(k, acc * 100))"
   ]
  },
  {
   "cell_type": "code",
   "execution_count": 32,
   "metadata": {
    "colab": {
     "base_uri": "https://localhost:8080/"
    },
    "id": "QsM683dEMEZL",
    "outputId": "0240a634-40e2-405f-c978-58f2a1ed0c1e"
   },
   "outputs": [
    {
     "name": "stdout",
     "output_type": "stream",
     "text": [
      "Decision Tree, k = 1: Accuracy: 76.70%\n",
      "Decision Tree, k = 2: Accuracy: 81.68%\n",
      "Decision Tree, k = 3: Accuracy: 83.66%\n",
      "Decision Tree, k = 4: Accuracy: 85.09%\n",
      "Decision Tree, k = 5: Accuracy: 85.94%\n",
      "Decision Tree, k = 6: Accuracy: 91.48%\n",
      "Decision Tree, k = 7: Accuracy: 94.18%\n",
      "Decision Tree, k = 8: Accuracy: 96.45%\n",
      "Decision Tree, k = 9: Accuracy: 98.72%\n",
      "Decision Tree, k = 10: Accuracy: 99.72%\n",
      "Decision Tree, k = 11: Accuracy: 99.86%\n",
      "Decision Tree, k = 12: Accuracy: 100.00%\n",
      "Decision Tree, k = 13: Accuracy: 100.00%\n",
      "Decision Tree, k = 14: Accuracy: 100.00%\n"
     ]
    }
   ],
   "source": [
    "# Decision Tree\n",
    "from sklearn.tree import DecisionTreeClassifier\n",
    "for k in K_range:\n",
    "    # Select the top K features using mRMR\n",
    "    top_k_indices = mRMR(X, 'MID', k)\n",
    "    X_mrmr = X.loc[:, top_k_indices]\n",
    "\n",
    "   \n",
    "    dec = DecisionTreeClassifier()\n",
    "    dec.fit(X_mrmr, y)\n",
    "    # Predict on the training data\n",
    "    y_pred = dec.predict(X_mrmr)\n",
    "    # Compute the accuracy\n",
    "    acc = accuracy_score(y, y_pred)\n",
    "    acc_scores[\"Decision Tree, k = {}\".format(k)] = acc\n",
    "    print(\"Decision Tree, k = {}: Accuracy: {:.2f}%\".format(k, acc * 100))"
   ]
  },
  {
   "cell_type": "code",
   "execution_count": 33,
   "metadata": {
    "colab": {
     "base_uri": "https://localhost:8080/"
    },
    "id": "GQVUzxNeVSqd",
    "outputId": "c8dd32e1-2fb7-4dfd-e352-636c4d39e241"
   },
   "outputs": [
    {
     "name": "stdout",
     "output_type": "stream",
     "text": [
      "KNN, k = 1: Accuracy: 75.57%\n",
      "KNN, k = 2: Accuracy: 79.40%\n",
      "KNN, k = 3: Accuracy: 80.97%\n",
      "KNN, k = 4: Accuracy: 81.11%\n",
      "KNN, k = 5: Accuracy: 81.96%\n",
      "KNN, k = 6: Accuracy: 87.07%\n",
      "KNN, k = 7: Accuracy: 86.93%\n",
      "KNN, k = 8: Accuracy: 89.63%\n",
      "KNN, k = 9: Accuracy: 90.34%\n",
      "KNN, k = 10: Accuracy: 93.75%\n",
      "KNN, k = 11: Accuracy: 94.74%\n",
      "KNN, k = 12: Accuracy: 94.74%\n",
      "KNN, k = 13: Accuracy: 89.20%\n",
      "KNN, k = 14: Accuracy: 89.35%\n"
     ]
    }
   ],
   "source": [
    "# KNN Classification\n",
    "from sklearn.neighbors import KNeighborsClassifier\n",
    "for k in K_range:\n",
    "    # Select the top K features using mRMR\n",
    "    top_k_indices = mRMR(X, 'MID', k)\n",
    "    X_mrmr = X.loc[:, top_k_indices]\n",
    "\n",
    "    knn = KNeighborsClassifier()\n",
    "    knn.fit(X_mrmr, y)\n",
    "    # Predict on the training data\n",
    "    y_pred = knn.predict(X_mrmr)\n",
    "    # Compute the accuracy\n",
    "    acc = accuracy_score(y, y_pred)\n",
    "    acc_scores[\"KNN, k = {}\".format(k)] = acc\n",
    "    print(\"KNN, k = {}: Accuracy: {:.2f}%\".format(k, acc * 100))"
   ]
  },
  {
   "cell_type": "code",
   "execution_count": 34,
   "metadata": {
    "colab": {
     "base_uri": "https://localhost:8080/"
    },
    "id": "kJPeb8uAVWOL",
    "outputId": "4bc7e61e-cc47-4cbf-b162-916b38a20180"
   },
   "outputs": [
    {
     "name": "stdout",
     "output_type": "stream",
     "text": [
      "Naive Bayes, k = 1: Accuracy: 73.15%\n",
      "Naive Bayes, k = 2: Accuracy: 73.15%\n",
      "Naive Bayes, k = 3: Accuracy: 75.00%\n",
      "Naive Bayes, k = 4: Accuracy: 75.00%\n",
      "Naive Bayes, k = 5: Accuracy: 75.43%\n",
      "Naive Bayes, k = 6: Accuracy: 82.67%\n",
      "Naive Bayes, k = 7: Accuracy: 84.94%\n",
      "Naive Bayes, k = 8: Accuracy: 87.93%\n",
      "Naive Bayes, k = 9: Accuracy: 89.91%\n",
      "Naive Bayes, k = 10: Accuracy: 92.90%\n",
      "Naive Bayes, k = 11: Accuracy: 93.75%\n",
      "Naive Bayes, k = 12: Accuracy: 94.60%\n",
      "Naive Bayes, k = 13: Accuracy: 94.46%\n",
      "Naive Bayes, k = 14: Accuracy: 96.59%\n"
     ]
    }
   ],
   "source": [
    "# Naive Bayes classification\n",
    "from sklearn.naive_bayes import GaussianNB\n",
    "for k in K_range:\n",
    "    # Select the top K features using mRMR\n",
    "    top_k_indices = mRMR(X, 'MID', k)\n",
    "    X_mrmr = X.loc[:, top_k_indices]\n",
    "\n",
    "    naive = GaussianNB()\n",
    "    naive.fit(X_mrmr, y)\n",
    "    # Predict on the training data\n",
    "    y_pred = naive.predict(X_mrmr)\n",
    "    # Compute the accuracy\n",
    "    acc = accuracy_score(y, y_pred)\n",
    "    acc_scores[\"Naive Bayes, k = {}\".format(k)] = acc\n",
    "    print(\"Naive Bayes, k = {}: Accuracy: {:.2f}%\".format(k, acc * 100))"
   ]
  },
  {
   "cell_type": "code",
   "execution_count": 35,
   "metadata": {
    "colab": {
     "base_uri": "https://localhost:8080/"
    },
    "id": "Ya3LNatCVaS9",
    "outputId": "0def85e9-eb69-4617-8abf-5b9d25e84248"
   },
   "outputs": [
    {
     "name": "stdout",
     "output_type": "stream",
     "text": [
      "Logistic Regression, k = 1: Accuracy: 73.15%\n",
      "Logistic Regression, k = 2: Accuracy: 73.15%\n",
      "Logistic Regression, k = 3: Accuracy: 74.72%\n",
      "Logistic Regression, k = 4: Accuracy: 75.99%\n",
      "Logistic Regression, k = 5: Accuracy: 76.56%\n",
      "Logistic Regression, k = 6: Accuracy: 83.38%\n",
      "Logistic Regression, k = 7: Accuracy: 85.94%\n",
      "Logistic Regression, k = 8: Accuracy: 89.49%\n",
      "Logistic Regression, k = 9: Accuracy: 91.76%\n",
      "Logistic Regression, k = 10: Accuracy: 95.03%\n",
      "Logistic Regression, k = 11: Accuracy: 96.45%\n",
      "Logistic Regression, k = 12: Accuracy: 97.59%\n",
      "Logistic Regression, k = 13: Accuracy: 98.30%\n",
      "Logistic Regression, k = 14: Accuracy: 100.00%\n"
     ]
    }
   ],
   "source": [
    "# Logistic Regression\n",
    "from sklearn.linear_model import LogisticRegression\n",
    "for k in K_range:\n",
    "    # Select the top K features using mRMR\n",
    "    top_k_indices = mRMR(X, 'MID', k)\n",
    "    X_mrmr = X.loc[:, top_k_indices]\n",
    "\n",
    "    log = LogisticRegression(max_iter=1000)\n",
    "    log.fit(X_mrmr, y)\n",
    "    # Predict on the training data\n",
    "    y_pred = log.predict(X_mrmr)\n",
    "    # Compute the accuracy\n",
    "    acc = accuracy_score(y, y_pred)\n",
    "    acc_scores[\"Logistic Regression, k = {}\".format(k)] = acc\n",
    "    print(\"Logistic Regression, k = {}: Accuracy: {:.2f}%\".format(k, acc * 100))"
   ]
  },
  {
   "cell_type": "code",
   "execution_count": 36,
   "metadata": {
    "colab": {
     "base_uri": "https://localhost:8080/"
    },
    "id": "i9fV1v6MVdy8",
    "outputId": "0645caad-402f-4244-a46c-9ae39bb6cd31"
   },
   "outputs": [
    {
     "name": "stdout",
     "output_type": "stream",
     "text": [
      "Accuracy for k=1 and kernel=linear: 0.73\n",
      "Accuracy for k=1 and kernel=poly: 0.73\n",
      "Accuracy for k=1 and kernel=rbf: 0.73\n",
      "Accuracy for k=2 and kernel=linear: 0.73\n",
      "Accuracy for k=2 and kernel=poly: 0.73\n",
      "Accuracy for k=2 and kernel=rbf: 0.73\n",
      "Accuracy for k=3 and kernel=linear: 0.75\n",
      "Accuracy for k=3 and kernel=poly: 0.73\n",
      "Accuracy for k=3 and kernel=rbf: 0.73\n",
      "Accuracy for k=4 and kernel=linear: 0.75\n",
      "Accuracy for k=4 and kernel=poly: 0.73\n",
      "Accuracy for k=4 and kernel=rbf: 0.73\n",
      "Accuracy for k=5 and kernel=linear: 0.75\n",
      "Accuracy for k=5 and kernel=poly: 0.73\n",
      "Accuracy for k=5 and kernel=rbf: 0.73\n",
      "Accuracy for k=6 and kernel=linear: 0.82\n",
      "Accuracy for k=6 and kernel=poly: 0.73\n",
      "Accuracy for k=6 and kernel=rbf: 0.73\n",
      "Accuracy for k=7 and kernel=linear: 0.85\n",
      "Accuracy for k=7 and kernel=poly: 0.73\n",
      "Accuracy for k=7 and kernel=rbf: 0.73\n",
      "Accuracy for k=8 and kernel=linear: 0.89\n",
      "Accuracy for k=8 and kernel=poly: 0.73\n",
      "Accuracy for k=8 and kernel=rbf: 0.73\n",
      "Accuracy for k=9 and kernel=linear: 0.91\n",
      "Accuracy for k=9 and kernel=poly: 0.73\n",
      "Accuracy for k=9 and kernel=rbf: 0.73\n",
      "Accuracy for k=10 and kernel=linear: 0.95\n",
      "Accuracy for k=10 and kernel=poly: 0.73\n",
      "Accuracy for k=10 and kernel=rbf: 0.73\n",
      "Accuracy for k=11 and kernel=linear: 0.96\n",
      "Accuracy for k=11 and kernel=poly: 0.73\n",
      "Accuracy for k=11 and kernel=rbf: 0.73\n",
      "Accuracy for k=12 and kernel=linear: 0.97\n",
      "Accuracy for k=12 and kernel=poly: 0.77\n",
      "Accuracy for k=12 and kernel=rbf: 0.73\n",
      "Accuracy for k=13 and kernel=linear: 0.97\n",
      "Accuracy for k=13 and kernel=poly: 0.78\n",
      "Accuracy for k=13 and kernel=rbf: 0.73\n",
      "Accuracy for k=14 and kernel=linear: 1.00\n",
      "Accuracy for k=14 and kernel=poly: 0.78\n",
      "Accuracy for k=14 and kernel=rbf: 0.73\n"
     ]
    }
   ],
   "source": [
    "# SVM with different kernels\n",
    "from sklearn.svm import SVC\n",
    "from sklearn.naive_bayes import GaussianNB\n",
    "for k in K_range:\n",
    "    # Select the top K features using mRMR\n",
    "    top_k_indices = mRMR(X, 'MID', k)\n",
    "    X_mrmr = X.loc[:, top_k_indices]\n",
    "    for kernel in ['linear', 'poly', 'rbf']:\n",
    "      # Define the SVM classifier with different kernels\n",
    "      svm = SVC(kernel=kernel)\n",
    "      svm.fit(X_mrmr, y)\n",
    "      # Predict on the training data\n",
    "      y_pred = svm.predict(X_mrmr)\n",
    "      # Compute the accuracy\n",
    "      acc = accuracy_score(y, y_pred)\n",
    "      print(f\"Accuracy for k={k} and kernel={kernel}: {acc:.2f}\")\n",
    "      "
   ]
  },
  {
   "cell_type": "code",
   "execution_count": null,
   "metadata": {
    "id": "5_RE0YidVhCq"
   },
   "outputs": [],
   "source": []
  }
 ],
 "metadata": {
  "colab": {
   "provenance": []
  },
  "kernelspec": {
   "display_name": "Python 3 (ipykernel)",
   "language": "python",
   "name": "python3"
  },
  "language_info": {
   "codemirror_mode": {
    "name": "ipython",
    "version": 3
   },
   "file_extension": ".py",
   "mimetype": "text/x-python",
   "name": "python",
   "nbconvert_exporter": "python",
   "pygments_lexer": "ipython3",
   "version": "3.11.5"
  }
 },
 "nbformat": 4,
 "nbformat_minor": 1
}
